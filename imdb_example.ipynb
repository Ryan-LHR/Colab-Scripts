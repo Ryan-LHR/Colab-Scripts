{
  "cells": [
    {
      "cell_type": "code",
      "execution_count": 31,
      "metadata": {
        "collapsed": true,
        "pycharm": {
          "is_executing": true
        },
        "colab": {
          "base_uri": "https://localhost:8080/"
        },
        "id": "yLIcRPiipa2k",
        "outputId": "dc89556b-73d2-41cd-b069-c71e3cc9d342"
      },
      "outputs": [
        {
          "output_type": "stream",
          "name": "stdout",
          "text": [
            "Requirement already satisfied: datasets in /usr/local/lib/python3.11/dist-packages (3.5.0)\n",
            "Requirement already satisfied: filelock in /usr/local/lib/python3.11/dist-packages (from datasets) (3.18.0)\n",
            "Requirement already satisfied: numpy>=1.17 in /usr/local/lib/python3.11/dist-packages (from datasets) (2.0.2)\n",
            "Requirement already satisfied: pyarrow>=15.0.0 in /usr/local/lib/python3.11/dist-packages (from datasets) (18.1.0)\n",
            "Requirement already satisfied: dill<0.3.9,>=0.3.0 in /usr/local/lib/python3.11/dist-packages (from datasets) (0.3.8)\n",
            "Requirement already satisfied: pandas in /usr/local/lib/python3.11/dist-packages (from datasets) (2.2.2)\n",
            "Requirement already satisfied: requests>=2.32.2 in /usr/local/lib/python3.11/dist-packages (from datasets) (2.32.3)\n",
            "Requirement already satisfied: tqdm>=4.66.3 in /usr/local/lib/python3.11/dist-packages (from datasets) (4.67.1)\n",
            "Requirement already satisfied: xxhash in /usr/local/lib/python3.11/dist-packages (from datasets) (3.5.0)\n",
            "Requirement already satisfied: multiprocess<0.70.17 in /usr/local/lib/python3.11/dist-packages (from datasets) (0.70.16)\n",
            "Requirement already satisfied: fsspec<=2024.12.0,>=2023.1.0 in /usr/local/lib/python3.11/dist-packages (from fsspec[http]<=2024.12.0,>=2023.1.0->datasets) (2024.12.0)\n",
            "Requirement already satisfied: aiohttp in /usr/local/lib/python3.11/dist-packages (from datasets) (3.11.15)\n",
            "Requirement already satisfied: huggingface-hub>=0.24.0 in /usr/local/lib/python3.11/dist-packages (from datasets) (0.30.1)\n",
            "Requirement already satisfied: packaging in /usr/local/lib/python3.11/dist-packages (from datasets) (24.2)\n",
            "Requirement already satisfied: pyyaml>=5.1 in /usr/local/lib/python3.11/dist-packages (from datasets) (6.0.2)\n",
            "Requirement already satisfied: aiohappyeyeballs>=2.3.0 in /usr/local/lib/python3.11/dist-packages (from aiohttp->datasets) (2.6.1)\n",
            "Requirement already satisfied: aiosignal>=1.1.2 in /usr/local/lib/python3.11/dist-packages (from aiohttp->datasets) (1.3.2)\n",
            "Requirement already satisfied: attrs>=17.3.0 in /usr/local/lib/python3.11/dist-packages (from aiohttp->datasets) (25.3.0)\n",
            "Requirement already satisfied: frozenlist>=1.1.1 in /usr/local/lib/python3.11/dist-packages (from aiohttp->datasets) (1.5.0)\n",
            "Requirement already satisfied: multidict<7.0,>=4.5 in /usr/local/lib/python3.11/dist-packages (from aiohttp->datasets) (6.2.0)\n",
            "Requirement already satisfied: propcache>=0.2.0 in /usr/local/lib/python3.11/dist-packages (from aiohttp->datasets) (0.3.1)\n",
            "Requirement already satisfied: yarl<2.0,>=1.17.0 in /usr/local/lib/python3.11/dist-packages (from aiohttp->datasets) (1.18.3)\n",
            "Requirement already satisfied: typing-extensions>=3.7.4.3 in /usr/local/lib/python3.11/dist-packages (from huggingface-hub>=0.24.0->datasets) (4.13.1)\n",
            "Requirement already satisfied: charset-normalizer<4,>=2 in /usr/local/lib/python3.11/dist-packages (from requests>=2.32.2->datasets) (3.4.1)\n",
            "Requirement already satisfied: idna<4,>=2.5 in /usr/local/lib/python3.11/dist-packages (from requests>=2.32.2->datasets) (3.10)\n",
            "Requirement already satisfied: urllib3<3,>=1.21.1 in /usr/local/lib/python3.11/dist-packages (from requests>=2.32.2->datasets) (2.3.0)\n",
            "Requirement already satisfied: certifi>=2017.4.17 in /usr/local/lib/python3.11/dist-packages (from requests>=2.32.2->datasets) (2025.1.31)\n",
            "Requirement already satisfied: python-dateutil>=2.8.2 in /usr/local/lib/python3.11/dist-packages (from pandas->datasets) (2.8.2)\n",
            "Requirement already satisfied: pytz>=2020.1 in /usr/local/lib/python3.11/dist-packages (from pandas->datasets) (2025.2)\n",
            "Requirement already satisfied: tzdata>=2022.7 in /usr/local/lib/python3.11/dist-packages (from pandas->datasets) (2025.2)\n",
            "Requirement already satisfied: six>=1.5 in /usr/local/lib/python3.11/dist-packages (from python-dateutil>=2.8.2->pandas->datasets) (1.17.0)\n",
            "Requirement already satisfied: corrupted-text in /usr/local/lib/python3.11/dist-packages (0.2.0)\n",
            "Requirement already satisfied: numpy>=1.16.4 in /usr/local/lib/python3.11/dist-packages (from corrupted-text) (2.0.2)\n",
            "Requirement already satisfied: polyleven==0.7 in /usr/local/lib/python3.11/dist-packages (from corrupted-text) (0.7)\n"
          ]
        }
      ],
      "source": [
        "! pip install datasets\n",
        "! pip install corrupted-text"
      ]
    },
    {
      "cell_type": "code",
      "execution_count": 32,
      "outputs": [],
      "source": [
        "import logging\n",
        "\n",
        "from datasets import load_dataset  # pip install datasets\n",
        "\n",
        "import corrupted_text  # pip install corrupted-text"
      ],
      "metadata": {
        "pycharm": {
          "name": "#%%\n",
          "is_executing": true
        },
        "id": "rvzXsWRdpa2k"
      }
    },
    {
      "cell_type": "code",
      "execution_count": 33,
      "outputs": [],
      "source": [
        "# Enable Detailed Logging\n",
        "logging.basicConfig(level=logging.INFO)"
      ],
      "metadata": {
        "pycharm": {
          "name": "#%%\n"
        },
        "id": "JBjIzFpBpa2l"
      }
    },
    {
      "cell_type": "code",
      "execution_count": 40,
      "outputs": [
        {
          "output_type": "stream",
          "name": "stdout",
          "text": [
            "Save data to: ./imdb/train_data.pkl\n",
            "Save data to: ./imdb/test_data.pkl\n",
            "Save data to: ./imdb/train_label.pkl\n",
            "Save data to: ./imdb/test_label.pkl\n"
          ]
        }
      ],
      "source": [
        "# Load the dataset using huggingface's datasets library\n",
        "nominal_train = load_dataset(\"stanfordnlp/imdb\", split=\"train\")[\"text\"]\n",
        "nominal_test = load_dataset(\"stanfordnlp/imdb\", split=\"test\")[\"text\"]\n",
        "\n",
        "nominal_train_label = load_dataset(\"stanfordnlp/imdb\", split=\"train\")[\"label\"]\n",
        "nominal_test_label = load_dataset(\"stanfordnlp/imdb\", split=\"test\")[\"label\"]\n",
        "\n",
        "import os, pickle\n",
        "def save_to_pickle(path, data):\n",
        "    \"\"\"Save data to a pickle file / 将数据保存到pickle文件\"\"\"\n",
        "    folder_path, filename = os.path.split(path)  # 分割文件路径和文件名\n",
        "    if not os.path.exists(folder_path):  # 检查文件夹是否存在\n",
        "        os.makedirs(folder_path)\n",
        "\n",
        "    with open(path, 'wb') as file:\n",
        "        pickle.dump(data, file)\n",
        "        print(\"Save data to: %s\" % path)\n",
        "\n",
        "save_to_pickle('./imdb/train_data.pkl', nominal_train)\n",
        "save_to_pickle('./imdb/test_data.pkl', nominal_test)\n",
        "save_to_pickle('./imdb/train_label.pkl', nominal_train_label)\n",
        "save_to_pickle('./imdb/test_label.pkl', nominal_test_label)"
      ],
      "metadata": {
        "pycharm": {
          "name": "#%%\n",
          "is_executing": true
        },
        "colab": {
          "base_uri": "https://localhost:8080/"
        },
        "id": "jk4TsHqgpa2l",
        "outputId": "537681c7-7e8c-4f22-9f83-9f56dfb55dd7"
      }
    },
    {
      "cell_type": "code",
      "execution_count": null,
      "outputs": [],
      "source": [
        "# Fit a corruptor (we fit on the training and test set,\n",
        "#   but as this takes a while, you'd want to choose a smaller subset for larger datasets)\n",
        "corruptor = corrupted_text.TextCorruptor(base_dataset=nominal_test + nominal_train,\n",
        "                                         cache_dir=\".mycache\")"
      ],
      "metadata": {
        "pycharm": {
          "name": "#%%\n",
          "is_executing": true
        },
        "id": "_G22nbN0pa2l"
      }
    },
    {
      "cell_type": "code",
      "execution_count": null,
      "outputs": [],
      "source": [
        "# To make this run faster, we corrupt just a small part of the dataset\n",
        "demo_set = nominal_test[:10]"
      ],
      "metadata": {
        "pycharm": {
          "name": "#%%\n"
        },
        "id": "gBENdWHNpa2l"
      }
    },
    {
      "cell_type": "code",
      "execution_count": null,
      "outputs": [],
      "source": [
        "# Corrupt the test set with severity 0.5. The result is again a list of corrupted strings.\n",
        "severity = 0.5\n",
        "imdb_corrupted = corruptor.corrupt(demo_set, severity=severity, seed=1)"
      ],
      "metadata": {
        "pycharm": {
          "name": "#%%\n",
          "is_executing": true
        },
        "id": "lNtIFCaapa2l"
      }
    },
    {
      "cell_type": "code",
      "execution_count": null,
      "outputs": [],
      "source": [
        "# Print the results\n",
        "print(f\"====Corruptions with severity {round(severity, 2)}===\")\n",
        "for i in range(len(demo_set)):\n",
        "    print(\"Original:\", demo_set[i])\n",
        "    print(\"Corrupted:\", imdb_corrupted[i])\n",
        "    print(\"---------------------------------\")"
      ],
      "metadata": {
        "pycharm": {
          "name": "#%%\n",
          "is_executing": true
        },
        "id": "nPVR_GWQpa2l"
      }
    }
  ],
  "metadata": {
    "kernelspec": {
      "display_name": "Python 3",
      "language": "python",
      "name": "python3"
    },
    "language_info": {
      "codemirror_mode": {
        "name": "ipython",
        "version": 2
      },
      "file_extension": ".py",
      "mimetype": "text/x-python",
      "name": "python",
      "nbconvert_exporter": "python",
      "pygments_lexer": "ipython2",
      "version": "2.7.6"
    },
    "colab": {
      "provenance": []
    }
  },
  "nbformat": 4,
  "nbformat_minor": 0
}